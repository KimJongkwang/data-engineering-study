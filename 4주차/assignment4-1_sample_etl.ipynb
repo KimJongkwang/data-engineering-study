{
 "cells": [
  {
   "cell_type": "markdown",
   "metadata": {},
   "source": [
    "## test table 생성"
   ]
  },
  {
   "cell_type": "markdown",
   "metadata": {
    "vscode": {
     "languageId": "sql"
    }
   },
   "source": [
    "- 문제정의\n",
    "\n",
    "웹상에 존재하는 이름 성별 CSV 파일을 Redshift에 있는 테이블로 복사\n",
    "\n",
    "DROP TABLE IF EXISTS name_gender;<br>\n",
    "CREATE TABLE name_gender (<br>\n",
    "&nbsp;&nbsp;&nbsp;   name varchar(32),<br>\n",
    "&nbsp;&nbsp;&nbsp;   gender varchar(8)<br>\n",
    ");"
   ]
  },
  {
   "cell_type": "code",
   "execution_count": 2,
   "metadata": {},
   "outputs": [],
   "source": [
    "from config import REDSHIFT_INFO, SCHEMA, DATA_LINK\n",
    "import psycopg2\n",
    "\n",
    "\n",
    "def get_redshift_connection(dbinfo):\n",
    "    conn = psycopg2.connect(**dbinfo)\n",
    "    conn.set_session(autocommit=True)\n",
    "    return conn"
   ]
  },
  {
   "cell_type": "markdown",
   "metadata": {},
   "source": [
    "# Assignment #1 - Colab Python 코드 개선하기\n",
    "1. 헤더가 레코드로 추가되는 문제 해결하기\n",
    "2. Idempotent하게 잡을 만들기 (full refresh잡이라고 가정)\n",
    "    - 여러 번 실행해도 동일한 결과가 나오게 만들기\n",
    "\n",
    "\n",
    "3. (Optional) Transaction을 사용해보기\n",
    "    - BEGIN; DELETE FROM ..; INSERT INTO… ;END;\n"
   ]
  },
  {
   "cell_type": "markdown",
   "metadata": {},
   "source": [
    "## 1. 헤더가 레코드로 추가되는 문제 해결하기\n",
    "\n",
    "transform에 헤더검사 및 제거하는 조건문 추가\n",
    "\n",
    "\n",
    "- 모든 `name_gender.csv` 파일이 항상 헤더가 고정되었다면, 인덱싱을 통해 전처리 (v)\n",
    "- \"name,gender\" 문자열 제거"
   ]
  },
  {
   "cell_type": "code",
   "execution_count": 6,
   "metadata": {},
   "outputs": [],
   "source": [
    "import requests\n",
    "\n",
    "def extract(url):\n",
    "    f = requests.get(url)\n",
    "    return (f.text)\n",
    "\n",
    "\n",
    "def transform(text):\n",
    "    lines = text.split(\"\\n\")[1:]  # header 제외\n",
    "    data = [tuple(line.split(\",\")) for line in lines if line != \"\"]  # 문자열 split, 빈 문자열 제거\n",
    "    return list(set(data))  # 중복레코드 제거\n",
    "\n",
    "\n",
    "# 데이터가 많아지면, copy 명령어를 통해 파일로 S3 등에 bulk하여 redshift에 적재\n",
    "def load(dbinfo, SCHEMA, lines):\n",
    "    # BEGIN과 END를 사용해서 SQL 결과를 트랜잭션으로 만들어주는 것이 좋음\n",
    "    # BEGIN;DELETE FROM (본인의스키마).name_gender;INSERT INTO TABLE VALUES ('KEEYONG', 'MALE');....;END;\n",
    "    conn = get_redshift_connection(dbinfo)\n",
    "    cur = conn.cursor()\n",
    "    # for r in lines:\n",
    "    #     sql = \"\"\"\n",
    "    #             begin;\n",
    "    #             delete from {schema}.name_gender;\n",
    "    #             INSERT INTO {schema}.name_gender VALUES ('{n}', '{g}');\n",
    "    #             end;\n",
    "    #         \"\"\".format(schema=SCHEMA, n=r[0], g=r[1])\n",
    "    #     cur.execute(sql)\n",
    "\n",
    "    # sql = f\"\"\"\n",
    "    #     begin;\n",
    "    #     delete from {SCHEMA}.name_gender;\n",
    "    #     insert into {SCHEMA}.name_gender VALUES (%s, %s);\n",
    "    #     end;\n",
    "    # \"\"\"\n",
    "\n",
    "\n",
    "    try:\n",
    "        delete_sql = f\"\"\"\n",
    "                begin;\n",
    "                delete from {SCHEMA}.name_gender;\n",
    "            \"\"\"\n",
    "        cur.execute(delete_sql)\n",
    "        insert_sql = f\"insert into {SCHEMA}.name_gender VALUES (%s, %s); end;\"\n",
    "        cur.executemany(insert_sql, lines)\n",
    "    except (Exception, psycopg2.DatabaseError) as error:\n",
    "        print(error)\n",
    "    finally:\n",
    "        conn.commit()\n",
    "        conn.close()"
   ]
  },
  {
   "cell_type": "markdown",
   "metadata": {},
   "source": [
    "## Extract - Transform - Load"
   ]
  },
  {
   "cell_type": "code",
   "execution_count": 8,
   "metadata": {},
   "outputs": [],
   "source": [
    "data = extract(DATA_LINK)\n",
    "lines = transform(data)\n",
    "# lines.insert(3,(1.23, 123, 123))\n",
    "load(REDSHIFT_INFO, SCHEMA, lines)"
   ]
  },
  {
   "cell_type": "code",
   "execution_count": 36,
   "metadata": {},
   "outputs": [],
   "source": [
    "cur = get_redshift_connection(REDSHIFT_INFO)"
   ]
  },
  {
   "cell_type": "code",
   "execution_count": 47,
   "metadata": {},
   "outputs": [],
   "source": [
    "insert_sql = f\"\"\"\n",
    "    insert into {SCHEMA}.name_gender VALUES (%s, %s)\n",
    "\"\"\"\n",
    "cur.executemany(insert_sql, lines)"
   ]
  },
  {
   "cell_type": "markdown",
   "metadata": {},
   "source": []
  },
  {
   "cell_type": "code",
   "execution_count": null,
   "metadata": {},
   "outputs": [],
   "source": []
  }
 ],
 "metadata": {
  "interpreter": {
   "hash": "0bea32821af6a3608434df2ecae1c0eb0828fbadce8aa5e535834108799fa005"
  },
  "kernelspec": {
   "display_name": "Python 3.7.13 ('data-engineering')",
   "language": "python",
   "name": "python3"
  },
  "language_info": {
   "codemirror_mode": {
    "name": "ipython",
    "version": 3
   },
   "file_extension": ".py",
   "mimetype": "text/x-python",
   "name": "python",
   "nbconvert_exporter": "python",
   "pygments_lexer": "ipython3",
   "version": "3.7.13"
  },
  "orig_nbformat": 4
 },
 "nbformat": 4,
 "nbformat_minor": 2
}
