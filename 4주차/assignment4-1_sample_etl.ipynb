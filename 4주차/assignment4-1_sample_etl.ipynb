{
 "cells": [
  {
   "cell_type": "markdown",
   "metadata": {},
   "source": [
    "## test table 생성"
   ]
  },
  {
   "cell_type": "markdown",
   "metadata": {
    "vscode": {
     "languageId": "sql"
    }
   },
   "source": [
    "- 문제정의\n",
    "\n",
    "웹상에 존재하는 이름 성별 CSV 파일을 Redshift에 있는 테이블로 복사\n",
    "\n",
    "DROP TABLE IF EXISTS name_gender;<br>\n",
    "CREATE TABLE name_gender (<br>\n",
    "&nbsp;&nbsp;&nbsp;   name varchar(32),<br>\n",
    "&nbsp;&nbsp;&nbsp;   gender varchar(8)<br>\n",
    ");"
   ]
  },
  {
   "cell_type": "code",
   "execution_count": 3,
   "metadata": {},
   "outputs": [],
   "source": [
    "from config import REDSHIFT_INFO, SCHEMA, DATA_LINK\n",
    "import psycopg2\n",
    "\n",
    "\n",
    "def get_redshift_connection(dbinfo):\n",
    "    conn = psycopg2.connect(**dbinfo)\n",
    "    conn.set_session(autocommit=True)\n",
    "    return conn"
   ]
  },
  {
   "cell_type": "markdown",
   "metadata": {},
   "source": [
    "# Assignment #1 - Colab Python 코드 개선하기\n",
    "1. 헤더가 레코드로 추가되는 문제 해결하기\n",
    "2. Idempotent하게 잡을 만들기 (full refresh잡이라고 가정)\n",
    "    - 여러 번 실행해도 동일한 결과가 나오게 만들기\n",
    "\n",
    "\n",
    "3. (Optional) Transaction을 사용해보기\n",
    "    - BEGIN; DELETE FROM ..; INSERT INTO… ;END;\n"
   ]
  },
  {
   "cell_type": "markdown",
   "metadata": {},
   "source": [
    "## 1. 헤더가 레코드로 추가되는 문제 해결하기\n",
    "\n",
    "transform에 헤더검사 및 제거하는 조건문 추가\n",
    "\n",
    "\n",
    "- 모든 `name_gender.csv` 파일이 항상 헤더가 고정되었다면, 인덱싱을 통해 전처리 (v)\n",
    "- \"name,gender\" 문자열 제거"
   ]
  },
  {
   "cell_type": "code",
   "execution_count": 58,
   "metadata": {},
   "outputs": [],
   "source": [
    "import requests\n",
    "\n",
    "def extract(url):\n",
    "    f = requests.get(url)\n",
    "    return (f.text)\n",
    "\n",
    "\n",
    "def transform(text):\n",
    "    lines = text.split(\"\\n\")[1:]  # header 제외\n",
    "    data = [tuple(line.split(\",\")) for line in lines if line != \"\"]  # 문자열 split, 빈 문자열 제거\n",
    "    return list(set(data))  # 중복레코드 제거\n",
    "\n",
    "\n",
    "# 데이터가 많아지면, copy 명령어를 통해 파일로 S3 등에 bulk하여 redshift에 적재\n",
    "def load(dbinfo, SCHEMA, lines):\n",
    "    # BEGIN과 END를 사용해서 SQL 결과를 트랜잭션으로 만들어주는 것이 좋음\n",
    "    # BEGIN;DELETE FROM (본인의스키마).name_gender;INSERT INTO TABLE VALUES ('KEEYONG', 'MALE');....;END;\n",
    "    conn = get_redshift_connection(dbinfo)\n",
    "    cur = conn.cursor()\n",
    "    try:\n",
    "        for r in lines:\n",
    "            insert_sql = f\"\"\"\n",
    "            begin;\n",
    "                delete from {SCHEMA}.name_gender where name = '{r[0]}' and gender = '{r[1]}';\n",
    "                insert into {SCHEMA}.name_gender VALUES ('{r[0]}', '{r[1]}');\n",
    "            end;\n",
    "            \"\"\"\n",
    "            # insert_sql = f\"insert into {SCHEMA}.name_gender VALUES (%s, %s); end;\"\n",
    "            # cur.executemany(insert_sql, lines)\n",
    "            cur.execute(insert_sql)\n",
    "    except (Exception, psycopg2.DatabaseError) as error:\n",
    "        print(error)\n",
    "    finally:\n",
    "        conn.commit()\n",
    "        conn.close()\n",
    "\n",
    "\n",
    "def fetchall(dbinfo, schema_table, cols=\"*\", option=None):\n",
    "    conn = get_redshift_connection(dbinfo)\n",
    "    cur = conn.cursor()\n",
    "    \n",
    "    # truncate {schema_table};\n",
    "    sql = f\"\"\"\n",
    "    select {cols} from {schema_table} {option};\n",
    "    \"\"\"\n",
    "    cur.execute(sql)\n",
    "    data = cur.fetchall()\n",
    "    return data\n",
    "\n"
   ]
  },
  {
   "cell_type": "markdown",
   "metadata": {},
   "source": [
    "## Extract - Transform - Load"
   ]
  },
  {
   "cell_type": "code",
   "execution_count": 62,
   "metadata": {},
   "outputs": [],
   "source": [
    "data = extract(DATA_LINK)\n",
    "lines = transform(data)\n",
    "# lines.insert(3,(\"test\", \"test over 8 varchar\"))\n",
    "load(REDSHIFT_INFO, SCHEMA, lines)\n",
    "result = fetchall(REDSHIFT_INFO, SCHEMA+\".name_gender\")"
   ]
  },
  {
   "cell_type": "code",
   "execution_count": 64,
   "metadata": {},
   "outputs": [
    {
     "data": {
      "text/plain": [
       "100"
      ]
     },
     "execution_count": 64,
     "metadata": {},
     "output_type": "execute_result"
    }
   ],
   "source": [
    "len(result)"
   ]
  },
  {
   "cell_type": "code",
   "execution_count": null,
   "metadata": {},
   "outputs": [],
   "source": []
  }
 ],
 "metadata": {
  "interpreter": {
   "hash": "0bea32821af6a3608434df2ecae1c0eb0828fbadce8aa5e535834108799fa005"
  },
  "kernelspec": {
   "display_name": "Python 3.7.13 ('data-engineering')",
   "language": "python",
   "name": "python3"
  },
  "language_info": {
   "codemirror_mode": {
    "name": "ipython",
    "version": 3
   },
   "file_extension": ".py",
   "mimetype": "text/x-python",
   "name": "python",
   "nbconvert_exporter": "python",
   "pygments_lexer": "ipython3",
   "version": "3.7.13"
  },
  "orig_nbformat": 4
 },
 "nbformat": 4,
 "nbformat_minor": 2
}
